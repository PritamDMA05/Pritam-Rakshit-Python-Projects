{
  "nbformat": 4,
  "nbformat_minor": 0,
  "metadata": {
    "colab": {
      "provenance": []
    },
    "kernelspec": {
      "name": "python3",
      "display_name": "Python 3"
    },
    "language_info": {
      "name": "python"
    }
  },
  "cells": [
    {
      "cell_type": "markdown",
      "source": [
        "You are working in a bank, and you have been given two lists of the employees who worked in 2021. Employees’ names in list 1 are Ramesh, Suresh, Mahesh, Ali, Jacob, and Saritha. List 2 contains the names of Ali, Mukesh, Mahesh, Jacob, Sai, and Sarita. Please write a program that helps to identify people who are common in both lists. Please do not use any in-built function."
      ],
      "metadata": {
        "id": "DVhFY6LmT2Dv"
      }
    },
    {
      "cell_type": "code",
      "source": [
        "from google.colab import drive\n",
        "drive.mount('/content/drive')"
      ],
      "metadata": {
        "id": "n8eoZZjqfmi0"
      },
      "execution_count": null,
      "outputs": []
    },
    {
      "cell_type": "code",
      "source": [
        "List1=[\"Ramesh\", \"Suresh\", \"Mahesh\", \"Ali\", \"Jacob\",\"Saritha\"]\n",
        "List2=[\"Ali\", \"Mukesh\", \"Mahesh\", \"Jacob\", \"Sai\", \"Sarita\"]\n",
        "b=set(List1)\n",
        "d=set(List2)\n",
        "c=b & d\n",
        "print(c)\n"
      ],
      "metadata": {
        "id": "lc6AsxbLq1qg",
        "colab": {
          "base_uri": "https://localhost:8080/"
        },
        "outputId": "15902c02-6341-446a-e7a4-91fe815c043e"
      },
      "execution_count": null,
      "outputs": [
        {
          "output_type": "stream",
          "name": "stdout",
          "text": [
            "{'Mahesh', 'Ali', 'Jacob'}\n"
          ]
        }
      ]
    },
    {
      "cell_type": "markdown",
      "source": [
        "While entering data, someone entered a few names as a common string “Ramesh Suresh Mohit”. Please write a program which separates all the names and converts them into a list. Once converted into a list, please write a program that adds their age."
      ],
      "metadata": {
        "id": "DCTUKqhrrSyo"
      }
    },
    {
      "cell_type": "code",
      "source": [
        "a=\"Ramesh Suresh Mohit\"\n",
        "b=a.split()\n",
        "print(b)\n",
        "b[0:3]=[\"Ramesh: 25\",\"Suresh: 22\", \"Mohit: 26\"]\n",
        "print(b)\n"
      ],
      "metadata": {
        "id": "-oXe7pzCrW-X",
        "colab": {
          "base_uri": "https://localhost:8080/"
        },
        "outputId": "2099c27b-6670-4674-a02e-fe3cdd93b94c"
      },
      "execution_count": null,
      "outputs": [
        {
          "output_type": "stream",
          "name": "stdout",
          "text": [
            "['Ramesh', 'Suresh', 'Mohit']\n",
            "['Ramesh: 25', 'Suresh: 22', 'Mohit: 26']\n"
          ]
        }
      ]
    },
    {
      "cell_type": "markdown",
      "source": [
        " You are working in a medical store. A patient came to your medical store and asked to buy 2 strips of paracetamol, 3 strips of azithromycin, and 5 strips of Vitamin C. One strip of paracetamol costs Rs 35, one strip of azithromycin costs Rs 49, and one strip of vitamin c costs Rs. 33. Patient gave you Rs 2000. Please tell us what is the total cost of each medicine, the total cost of all medicine, and how much money you refunded to the patient."
      ],
      "metadata": {
        "id": "YsUet9l3raXv"
      }
    },
    {
      "cell_type": "code",
      "source": [
        "medecine_price={'paracetamol':35,'azithromycin':49,'Vitamin C':33}\n",
        "purchase_qty={'paracetamol':2,'azithromycin':3,'Vitamin C':5}\n",
        "patient_gv=2000\n",
        "tp=0\n",
        "medecines=['paracetamol','azithromycin','Vitamin C']\n",
        "\n",
        "for p,q in purchase_qty.items():\n",
        "  if p in medecine_price:\n",
        "    z=medecine_price[p]*q\n",
        "\n",
        "    print(\"Total price of\",p,z)\n",
        "\n",
        "    tp+=medecine_price[p]*q\n",
        "\n",
        "  else:\n",
        "    print(p, \"it is not available\")\n",
        "print(\"Total medecine purchased are {} \".format(tp))\n",
        "mny_r=patient_gv-tp\n",
        "print(\"Refunded money is:\",mny_r)\n"
      ],
      "metadata": {
        "colab": {
          "base_uri": "https://localhost:8080/"
        },
        "id": "qyHjIaitrffG",
        "outputId": "ca2dcab5-d5f1-472f-8a47-b103c6ca277a"
      },
      "execution_count": null,
      "outputs": [
        {
          "output_type": "stream",
          "name": "stdout",
          "text": [
            "Total price of paracetamol 70\n",
            "Total price of azithromycin 147\n",
            "Total price of Vitamin C 165\n",
            "Total medecine purchased are 382 \n",
            "Refunded money is: 1618\n"
          ]
        }
      ]
    },
    {
      "cell_type": "markdown",
      "source": [
        "Accept a sentence as input and find the number of vowels in it. Assume that the sentence has no punctuation marks. For example, I am learning python contains 6 vowels. This function should be applicable for all other different sentences."
      ],
      "metadata": {
        "id": "co9zaPjor0__"
      }
    },
    {
      "cell_type": "code",
      "source": [
        "a=input(\"Enter a string without any punctuation masrk\")\n",
        "b=[\"a\",\"e\",\"i\",\"o\",\"u\", \"A\",\"E\",\"I\",\"O\",\"U\"]\n",
        "c=0\n",
        "for i in a:\n",
        "  if i in b:\n",
        "    c=c+1\n",
        "  else:\n",
        "    pass\n",
        "\n",
        "print(\"It has {} vowels\".format(c))\n"
      ],
      "metadata": {
        "id": "szGjkw9lr5Hg",
        "colab": {
          "base_uri": "https://localhost:8080/"
        },
        "outputId": "eabc621c-8b9b-42c0-efc5-d701ac7ddf94"
      },
      "execution_count": null,
      "outputs": [
        {
          "output_type": "stream",
          "name": "stdout",
          "text": [
            "Enter a string without any punctuation masrkhi i am learning python\n",
            "It has 7 vowels\n"
          ]
        }
      ]
    },
    {
      "cell_type": "code",
      "source": [],
      "metadata": {
        "id": "JIAZVZsP_i7T"
      },
      "execution_count": null,
      "outputs": []
    },
    {
      "cell_type": "markdown",
      "source": [
        ": You have been appointed by the election commission to create a website. Your first task is to work on a program which tells candidates if they are eligible for voting or not. If they are eligible, your output should be ‘Congrats! You are eligible’; otherwise, it should tell that you have to return after X number of years. The eligibility criteria for voting is 18 years."
      ],
      "metadata": {
        "id": "dvAfmu8Jr9nX"
      }
    },
    {
      "cell_type": "code",
      "source": [
        "a=int(input(\"Enter your age\"))\n",
        "if a>=18:\n",
        "  print(\"Congrats!\")\n",
        "else:\n",
        "  b=18-a\n",
        "  print(\"return after {} years. The eligibility criteria for voting is 18 years.\" .format(b))\n"
      ],
      "metadata": {
        "id": "la4TEzHZsBsm",
        "colab": {
          "base_uri": "https://localhost:8080/"
        },
        "outputId": "bac5a8e3-5110-4c08-c1d7-7b1013b2345c"
      },
      "execution_count": null,
      "outputs": [
        {
          "output_type": "stream",
          "name": "stdout",
          "text": [
            "Enter your age16\n",
            "return after 2 years. The eligibility criteria for voting is 18 years.\n"
          ]
        }
      ]
    },
    {
      "cell_type": "markdown",
      "source": [
        ": Given a list of integers, find the cumulative sum of the elements of the list and store them in another list.\n",
        "\n",
        "\n",
        "\n",
        "A = [1, 2, 3, 4, 5]\n",
        "\n",
        "\n",
        "\n",
        "Output:\n",
        "\n",
        "[1, 3, 6, 10, 15]"
      ],
      "metadata": {
        "id": "LFv0IRLGsH1O"
      }
    },
    {
      "cell_type": "code",
      "source": [
        "A = [1, 2, 3, 4, 5]\n",
        "\n",
        "a=0\n",
        "b=[]\n",
        "for i in A:\n",
        "  if i%2==0:\n",
        "    c=b.append(i)\n",
        "print(b)\n"
      ],
      "metadata": {
        "id": "_z_zgh5CsMTo",
        "colab": {
          "base_uri": "https://localhost:8080/"
        },
        "outputId": "9c5dd6dd-2559-48e3-b143-e65045fe062a"
      },
      "execution_count": null,
      "outputs": [
        {
          "output_type": "stream",
          "name": "stdout",
          "text": [
            "[2, 4]\n"
          ]
        }
      ]
    },
    {
      "cell_type": "markdown",
      "source": [
        "WAP to encode a message entered by user as per below conditions:\n",
        "\n",
        "\n",
        "\n",
        "for every word in the sentence,\n",
        "\n",
        "1. If the word starts with a vowel, encode it as the first and last letter of the word.\n",
        "\n",
        "2. If the word starts with a consonant, remove all vowels from it.\n",
        "\n",
        "\n",
        "\n",
        "Ensure the case insensitive comparisons/checks are performed.\n",
        "\n",
        "\n",
        "\n",
        "Please enter your text:The quick brown fox used to sleep inside this box\n",
        "\n",
        "Encoded Msg: Th qck brwn fx ud t slp ie ths bx"
      ],
      "metadata": {
        "id": "UBk8Q9QgsQmm"
      }
    },
    {
      "cell_type": "code",
      "source": [
        "a=str(input(\"Please enter your text : \"))\n",
        "b=a.lower()\n",
        "c=b.split()\n",
        "e=[]\n",
        "d=[\"a\",\"e\",\"i\",\"o\",\"u\"]\n",
        "\n",
        "for i in c:\n",
        "    if i[0] in d:\n",
        "        x=i[0]+i[-1]\n",
        "        e.append(x)\n",
        "    else:\n",
        "        g=i\n",
        "        for j in d:\n",
        "            g=g.replace(j,\"\")\n",
        "        e.append(g)\n",
        "f=\" \".join(e)\n",
        "print (f)\n"
      ],
      "metadata": {
        "id": "e9lbEw04sVM3",
        "colab": {
          "base_uri": "https://localhost:8080/"
        },
        "outputId": "f830bb23-d6bd-4896-c283-5406f87c91b6"
      },
      "execution_count": null,
      "outputs": [
        {
          "output_type": "stream",
          "name": "stdout",
          "text": [
            "Please enter your text : hi how are you\n",
            "h hw ae y\n"
          ]
        }
      ]
    },
    {
      "cell_type": "markdown",
      "source": [
        "Write a program to implement run length encoding of a string\n",
        "\n",
        "\n",
        "\n",
        "RLE:Consecutive repetition of a character has to be replaced with the count of occurrences and the character.\n",
        "\n",
        "\n",
        "\n",
        "Enter your string :aabbbccdddae\n",
        "\n",
        "Encoded: 2a3b2c3d1a1e"
      ],
      "metadata": {
        "id": "PVuugH9WrMF5"
      }
    },
    {
      "cell_type": "code",
      "source": [
        "a=input(\"Enter your string \")\n",
        "final_string=\"\"\n",
        "count=1\n",
        "for i in range(1,len(a)):\n",
        "  if a[i]==a[i-1]:\n",
        "\n",
        "    count+=1\n",
        "  else:\n",
        "    final_string+=str(count)+a[i-1]\n",
        "\n",
        "    count=1\n",
        "final_string+=str(count)+a[-1]\n",
        "print(final_string)\n"
      ],
      "metadata": {
        "id": "rfAb6R6g_j2i",
        "colab": {
          "base_uri": "https://localhost:8080/"
        },
        "outputId": "f0abc1aa-448a-4ab0-b9bd-121464dbb21c"
      },
      "execution_count": null,
      "outputs": [
        {
          "output_type": "stream",
          "name": "stdout",
          "text": [
            "Enter your string aaabbb\n",
            "3a3b\n"
          ]
        }
      ]
    },
    {
      "cell_type": "code",
      "source": [
        "\n",
        "\n"
      ],
      "metadata": {
        "colab": {
          "base_uri": "https://localhost:8080/"
        },
        "id": "SmrvoMy9-GKC",
        "outputId": "1c5671c1-104e-4ff4-a732-07ae53c92fa9"
      },
      "execution_count": null,
      "outputs": [
        {
          "output_type": "stream",
          "name": "stdout",
          "text": [
            "0\n",
            "1\n",
            "2\n",
            "3\n",
            "4\n",
            "5\n",
            "6\n",
            "7\n",
            "8\n",
            "9\n"
          ]
        }
      ]
    }
  ]
}